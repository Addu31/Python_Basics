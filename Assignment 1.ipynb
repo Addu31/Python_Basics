{
 "cells": [
  {
   "cell_type": "raw",
   "id": "a09b52dc",
   "metadata": {},
   "source": [
    "1) In the below elements which of them are values or an expression? eg:- values can be integer or string and expressions will be mathematical operators.\n",
    "\n",
    "Ans:- \n",
    "\n",
    "*          :- Expression\n",
    "'hello'    :- Value\n",
    "-87.8      :- Value\n",
    "-          :- Expression\n",
    "/          :- Expression\n",
    "+          :- Expression\n",
    "6          :- Value"
   ]
  },
  {
   "cell_type": "raw",
   "id": "1d84e208",
   "metadata": {},
   "source": [
    "2) What is difference between string and variable?\n",
    "\n",
    "Ans:- String:- String is a collection of characters. String should be declared in 'Single' or \"Double\" quotes.\n",
    "      For Example:- print(\"Adnan\") \n",
    "      In this Adnan is declared in \"Double\" Quotes. Hence Adnan is string.\n",
    "    \n",
    "      Variables :- Variables are used to store different types of datatypes. Datatypes can be int, char, bool,string,float.\n",
    "      For Example:- a = 100\n",
    "      In this 'a' is a variable and 100 is a value. Value can be anything.\n",
    "\n",
    "                "
   ]
  },
  {
   "cell_type": "raw",
   "id": "5ecce205",
   "metadata": {},
   "source": [
    "3) Describe three different datatypes?\n",
    "\n",
    "Ans:- a) int:- int is used to store integer type value. Integer values are not iterable.\n",
    "       Example:- a = 10\n",
    "      \n",
    "      b) float:- float is used to store decimal type value. Decimal place is accurate upto 15 decimal places.\n",
    "      Example:- a = 22.345\n",
    "      \n",
    "      c) string:- string is used to store string type of data. String should be declared in 'Single' or \"Double\" quotes.\n",
    "      Example:- a = \"Adnan\" or 'Adnan'\n",
    "      \n",
    "      d) complex:- complex is used to store complex type of data. Complex data consits of real and imaginary part.\n",
    "      Example:- a = 34+6j\n",
    "                Here 34 is a real part and 6j is imaginary part.\n",
    "        \n",
    "       e) boolean:- boolean consits of True or False\n",
    "       Example:- a = True\n",
    "                 b = False"
   ]
  },
  {
   "cell_type": "raw",
   "id": "815eb518",
   "metadata": {},
   "source": [
    "4) What is an expression made up of? What do all expressions do?\n",
    "\n",
    "Ans:- An expression is a combination of constants, operators and variables. An expressions may consists of one or more operands and zero or more operators to produce a value.\n",
    "\n",
    "Example:- a = b + c * d / e.....\n",
    "          In above expression 'a' is a variable which is used to store the expression value.\n",
    "          b,c,d,e are operands and +,*,/ are operators."
   ]
  },
  {
   "cell_type": "raw",
   "id": "1d65094a",
   "metadata": {},
   "source": [
    "5) This assignment statements, like spam = 10. What is the difference between an expression and a statement?\n",
    "\n",
    "Ans:- An expression consists of operators, constants and variables. \n",
    "The given statement contains spam as a variable. 10 as a value and expression is used to find value."
   ]
  },
  {
   "cell_type": "raw",
   "id": "6e6d3985",
   "metadata": {},
   "source": [
    "6) After running the following code, what does the variable bacon contain?\n",
    "bacon = 22\n",
    "bacon + 1\n",
    "\n",
    "Ans:- Firstly 22 is assigned as a value to bacon after that by adding +1 we have increment value of bacon by 1. So after running the value of bacon becomes 23."
   ]
  },
  {
   "cell_type": "raw",
   "id": "cb0918a3",
   "metadata": {},
   "source": [
    "7) What should the values of the following two terms be?\n",
    "(i)  'span' + 'spamspam'\n",
    "(ii) 'spam' * 3\n",
    "\n",
    "Ans:- (i) 'span' + 'spamspam':- In this we have used + operator between two strings. So in this + operator will concatenate both the strings.\n",
    "So the output will be:- 'spanspamspam'\n",
    "\n",
    "      (ii) 'spam' * 3:- In this spam will be printed 3 times because we have used * operator\n",
    "So the output will be:- 'spamspamspam'"
   ]
  },
  {
   "cell_type": "raw",
   "id": "ab4e6bd8",
   "metadata": {},
   "source": [
    "8) Why is eggs a valid variable name while 100 is invalid?\n",
    "\n",
    "Ans:- There are rules to define variables:\n",
    "     (i) We cannot use reserved keywords as a variable\n",
    "     (ii) Variable must not contain any void space and special character\n",
    "     (iii) Variable names are case sensitive\n",
    "     (iv) Variable name cannot start with a number.\n",
    "     \n",
    "So according to rule(iv) we cannot start variable name with a number and 100 is a number.\n",
    "Hence 100 is invalid while egg statisfy all the conditions."
   ]
  },
  {
   "cell_type": "raw",
   "id": "cbf79818",
   "metadata": {},
   "source": [
    "9) What three functions can be used to get the integer, floating-point number, or string version of a value?\n",
    "\n",
    "Ans:- int(), float() and str() function will evaluated to the integer, floating-point number and string versions of the value passed to them."
   ]
  },
  {
   "cell_type": "raw",
   "id": "a0d39284",
   "metadata": {},
   "source": [
    "10) Why does this expression cause an error? How can you fix it?\n",
    "'I have eaten ' + 99 + ' burritos.'\n",
    "\n",
    "Ans:- This expression will cause an TypeError\n",
    "      This can be solved by two ways:\n",
    "      (i) By converting 99 as a string by adding 'Single' or \"Double\" quotes to it. After adding quotes it will concatenate the strings.\n",
    "      Explanation:- 'I have eaten' + '99' + 'burritos'\n",
    "      \n",
    "      (ii) We can typecast 99 as a string using str(99)\n",
    "      Explanation:- 'I have eaten' + str(99) + 'burritos'"
   ]
  }
 ],
 "metadata": {
  "kernelspec": {
   "display_name": "Python 3 (ipykernel)",
   "language": "python",
   "name": "python3"
  },
  "language_info": {
   "codemirror_mode": {
    "name": "ipython",
    "version": 3
   },
   "file_extension": ".py",
   "mimetype": "text/x-python",
   "name": "python",
   "nbconvert_exporter": "python",
   "pygments_lexer": "ipython3",
   "version": "3.9.13"
  }
 },
 "nbformat": 4,
 "nbformat_minor": 5
}
