{
 "cells": [
  {
   "cell_type": "code",
   "execution_count": null,
   "id": "62c0165a",
   "metadata": {},
   "outputs": [],
   "source": [
    "1) What are the two values of the Boolean data type? How do you write them?\n",
    "\n",
    "Ans:- There are two types of Boolean values:\n",
    "      (i) True\n",
    "      (ii) False\n",
    "      We use 'T' for true and 'F' for false."
   ]
  },
  {
   "cell_type": "code",
   "execution_count": null,
   "id": "8aac34c3",
   "metadata": {},
   "outputs": [],
   "source": [
    "2) What are the three different types of Boolean operators?\n",
    "\n",
    "Ans:- Three boolean operators are 'and','or','not'.\n",
    "      (i) and:- In this if both the operands are true then only the output will be true otherwise it will be false.\n",
    "      Example:    X         Y          Output\n",
    "                 True      True         True\n",
    "                 True      False        False\n",
    "                 False     True         False\n",
    "                 False     False        False\n",
    "                 \n",
    "                 \n",
    "      (ii) or:- In this if one of the operand is true then the output will be true otherwise it will be false.\n",
    "       Example:    X        Y         Output\n",
    "                  True     True        True\n",
    "                  True     False       True\n",
    "                  False    True        True\n",
    "                  False    False       False\n",
    "                  \n",
    "      (iii) not:- In this if the input is true then the output will be false and vice-versa\n",
    "      Example:   X         Output\n",
    "                True        False\n",
    "                False       True\n",
    "                "
   ]
  },
  {
   "cell_type": "code",
   "execution_count": null,
   "id": "1eacb1a6",
   "metadata": {},
   "outputs": [],
   "source": [
    "3) Make a list of each Boolean operator's truth tables(i.e every possible combination of Boolean values for the operator and what it evaluate).\n",
    "\n",
    "Ans:- (i) True and True = True\n",
    "          True and False = False\n",
    "          False and True = False\n",
    "          False and False = False\n",
    "\n",
    "     (ii) True or True = True\n",
    "          True or False = True\n",
    "          False or True = True\n",
    "          False or False = False\n",
    "          \n",
    "    (iii) not True = False\n",
    "          not False = True"
   ]
  },
  {
   "cell_type": "code",
   "execution_count": null,
   "id": "a5945c7c",
   "metadata": {},
   "outputs": [],
   "source": [
    "4) What are the values of the following expressions?\n",
    "(i) (5 > 4) and (3 == 5)\n",
    "(ii) not (5 > 4)\n",
    "(iii) (5 > 4) or (3 == 5)\n",
    "(iv) not ((5 > 4) or (3 == 5))\n",
    "(v) (True and True) and (True == False)\n",
    "(vi) (not False) or (not True)\n",
    "\n",
    "Ans:-\n",
    "      (i) (5 > 4) and (3 == 5)                 = False\n",
    "      (ii) not (5 > 4)                         = False\n",
    "      (iii) (5 > 4) or (3 == 5)                = True\n",
    "      (iv) not ((5 > 4) or (3 == 5))           = False\n",
    "      (v) (True and True) and (True == False)  = False\n",
    "      (vi) (not False) or (not True)           = True"
   ]
  },
  {
   "cell_type": "code",
   "execution_count": null,
   "id": "171422aa",
   "metadata": {},
   "outputs": [],
   "source": [
    "5) What are the six comparison operators?\n",
    "\n",
    "Ans:- (i)   >  :- Greater than\n",
    "      (ii)  <  :- Lesser than\n",
    "      (iii) >= :- Greater than equal to\n",
    "      (iv)  <= :- Less than equal to\n",
    "      (v)   == :- is equal to\n",
    "      (vi)  != :- not equal to"
   ]
  },
  {
   "cell_type": "code",
   "execution_count": null,
   "id": "91b9e573",
   "metadata": {},
   "outputs": [],
   "source": [
    "6) How do you tell the difference between equal to and assignment operators?\n",
    "\n",
    "Ans:- '==' is equal to operator is used to compare two values and evaluates ta a boolean value.\n",
    "      '=' The assignment operator is used to store a value in the variable.\n",
    "      \n",
    "      Example:- if(4==4):\n",
    "                    print(\"True\")\n",
    "                 else:\n",
    "                     print(\"False\")\n",
    "       In above example we are comparing 4 with 4 if this condition gets true then it will print the statement which is written in if block. otherwise it will print else block.\n",
    "       \n",
    "       Example:- a = 4\n",
    "       In above example we have assigned 4 as a value to a variable 'a'."
   ]
  },
  {
   "cell_type": "code",
   "execution_count": null,
   "id": "de56b19c",
   "metadata": {},
   "outputs": [],
   "source": [
    "7) Identify the three blocks in this code:\n",
    "spam = 0\n",
    "if spam == 10:\n",
    "print('eggs')\n",
    "if spam > 5:\n",
    "print('bacon')\n",
    "else:\n",
    "print('ham')\n",
    "print('spam')\n",
    "print('spam')\n",
    "\n",
    "Ans:-  spam = 0\n",
    "\n",
    "       Block 1:\n",
    "       if spam == 10:\n",
    "           print('eggs')\n",
    "       \n",
    "       Block 2:\n",
    "       if spam > 5:\n",
    "           print('bacon')\n",
    "       \n",
    "       Block 3:\n",
    "       else:\n",
    "           print('ham')\n",
    "           print('spam')\n",
    "           print('spam')"
   ]
  },
  {
   "cell_type": "code",
   "execution_count": null,
   "id": "f80408b8",
   "metadata": {},
   "outputs": [],
   "source": [
    "8) Write code that prints Hello if 1 is stored in spam, prints Howdy if 2 is stored in spam, and prints Greetings! if anything else is stored in spam.\n",
    "\n",
    "Ans:-  spam = int(input(\"Enter a number :\"))\n",
    "       if spam == 1:\n",
    "           print(\"Hello\")\n",
    "       elif spam == 2:\n",
    "           print(\"Howdy\")\n",
    "       else:\n",
    "           print(\"Greetings!\")"
   ]
  },
  {
   "cell_type": "code",
   "execution_count": null,
   "id": "bf496e9a",
   "metadata": {},
   "outputs": [],
   "source": [
    "9) If your program is stuck in an endless loop, what keys you'll press?\n",
    "\n",
    "Ans:- If program is stuck in endless loop we will press ctrl+c."
   ]
  },
  {
   "cell_type": "code",
   "execution_count": null,
   "id": "8022e40e",
   "metadata": {},
   "outputs": [],
   "source": [
    "10) How can you tell the difference between break and continue?\n",
    "\n",
    "Ans:- If we use break then it will come out of the loop if the condition gets satisfied and further execution will stop.\n",
    "\n",
    "      Example: for i in range(20):\n",
    "                   if(i == 12):\n",
    "                       break\n",
    "                   print(i)\n",
    "               print(\"Break\")\n",
    "               \n",
    "      In above example after reaching 12 it will not execute further.         \n",
    "               \n",
    "               \n",
    "      If we use continue then it will skip the given condition and proceed further.\n",
    "      \n",
    "      \n",
    "      Example: for i in range(20):\n",
    "                   if(i == 12):\n",
    "                       continue\n",
    "                   print(i)\n",
    "      \n",
    "      In above example it will not execute 12.     "
   ]
  },
  {
   "cell_type": "code",
   "execution_count": null,
   "id": "daf55c73",
   "metadata": {},
   "outputs": [],
   "source": [
    "11) In a for loop, what is the difference between range(10), range(0,10) and range(0,10,1)?\n",
    "\n",
    "Ans:- range(10):- In this all the elements will print from 0-9.\n",
    "      \n",
    "      range(0,10):- In this element will start from 0 and it will go upto 10th element(i.e 0-9).\n",
    "      \n",
    "      range(0,10,1):- In this element will start from 0 and it will go upto 10th element with the step size 1."
   ]
  },
  {
   "cell_type": "code",
   "execution_count": null,
   "id": "a02f12ad",
   "metadata": {},
   "outputs": [],
   "source": [
    "12) Write a short program that prints the numbers 1 to 10 using a for loop. Then write an equivalent program that prints the numbers 1 to 10 using a while loop.\n",
    "\n",
    "Ans:-  Using For loop:-\n",
    "       for i in range(1,11):\n",
    "           print(i)\n",
    "           \n",
    "           \n",
    "       Using While loop:-\n",
    "       i = 1\n",
    "       while(i <= 10):\n",
    "           print(i)\n",
    "           i +=1"
   ]
  },
  {
   "cell_type": "code",
   "execution_count": null,
   "id": "901292b3",
   "metadata": {},
   "outputs": [],
   "source": [
    "13) If you had a function named bacon() inside a module named spam, how would you call it after importing spam?\n",
    "\n",
    "Ans:- Function can be called using spam.bacon()"
   ]
  }
 ],
 "metadata": {
  "kernelspec": {
   "display_name": "Python 3 (ipykernel)",
   "language": "python",
   "name": "python3"
  },
  "language_info": {
   "codemirror_mode": {
    "name": "ipython",
    "version": 3
   },
   "file_extension": ".py",
   "mimetype": "text/x-python",
   "name": "python",
   "nbconvert_exporter": "python",
   "pygments_lexer": "ipython3",
   "version": "3.9.13"
  }
 },
 "nbformat": 4,
 "nbformat_minor": 5
}
